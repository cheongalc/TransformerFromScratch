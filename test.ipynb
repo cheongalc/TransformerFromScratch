{
 "cells": [
  {
   "cell_type": "code",
   "execution_count": 1,
   "metadata": {},
   "outputs": [],
   "source": [
    "import torch"
   ]
  },
  {
   "cell_type": "code",
   "execution_count": 17,
   "metadata": {},
   "outputs": [
    {
     "data": {
      "text/plain": [
       "tensor([[ 0.0000e+00,  1.0000e+00,  0.0000e+00,  ...,  1.0000e+00,\n",
       "          0.0000e+00,  1.0000e+00],\n",
       "        [ 8.4147e-01,  5.4030e-01,  8.2186e-01,  ...,  1.0000e+00,\n",
       "          1.0366e-04,  1.0000e+00],\n",
       "        [ 9.0930e-01, -4.1615e-01,  9.3641e-01,  ...,  1.0000e+00,\n",
       "          2.0733e-04,  1.0000e+00],\n",
       "        ...,\n",
       "        [-5.0639e-01, -8.6230e-01,  8.1020e-01,  ...,  9.9962e-01,\n",
       "          2.6431e-02,  9.9965e-01],\n",
       "        [-9.9921e-01, -3.9791e-02,  9.4330e-01,  ...,  9.9962e-01,\n",
       "          2.6535e-02,  9.9965e-01],\n",
       "        [-5.7336e-01,  8.1931e-01,  2.6459e-01,  ...,  9.9962e-01,\n",
       "          2.6638e-02,  9.9965e-01]])"
      ]
     },
     "execution_count": 17,
     "metadata": {},
     "output_type": "execute_result"
    }
   ],
   "source": [
    "context_length = 256\n",
    "hidden_size = 512\n",
    "\n",
    "pe = torch.zeros((context_length + 2, hidden_size), requires_grad=False)\n",
    "pos = torch.arange(0, context_length + 2, dtype=torch.float).unsqueeze(1)\n",
    "_2i = torch.arange(0, hidden_size, step=2).float()\n",
    "\n",
    "pe[:, 0::2] = torch.sin(pos / (10000 ** (_2i / hidden_size)))\n",
    "pe[:, 1::2] = torch.cos(pos / (10000 ** (_2i / hidden_size)))\n",
    "\n",
    "pe"
   ]
  },
  {
   "cell_type": "code",
   "execution_count": 34,
   "metadata": {},
   "outputs": [
    {
     "data": {
      "text/plain": [
       "torch.Size([256])"
      ]
     },
     "execution_count": 34,
     "metadata": {},
     "output_type": "execute_result"
    }
   ],
   "source": [
    "a = 10000 ** (_2i / hidden_size)\n",
    "a.shape"
   ]
  },
  {
   "cell_type": "code",
   "execution_count": null,
   "metadata": {},
   "outputs": [],
   "source": []
  }
 ],
 "metadata": {
  "kernelspec": {
   "display_name": "til2023",
   "language": "python",
   "name": "python3"
  },
  "language_info": {
   "codemirror_mode": {
    "name": "ipython",
    "version": 3
   },
   "file_extension": ".py",
   "mimetype": "text/x-python",
   "name": "python",
   "nbconvert_exporter": "python",
   "pygments_lexer": "ipython3",
   "version": "3.9.16"
  },
  "orig_nbformat": 4
 },
 "nbformat": 4,
 "nbformat_minor": 2
}
